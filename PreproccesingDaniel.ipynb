{
  "nbformat": 4,
  "nbformat_minor": 0,
  "metadata": {
    "colab": {
      "name": "PreproccesingDaniel.ipynb",
      "provenance": [],
      "authorship_tag": "ABX9TyOJu4vz3hpPWyfgiLRi2F9H",
      "include_colab_link": true
    },
    "kernelspec": {
      "name": "python3",
      "display_name": "Python 3"
    },
    "language_info": {
      "name": "python"
    }
  },
  "cells": [
    {
      "cell_type": "markdown",
      "metadata": {
        "id": "view-in-github",
        "colab_type": "text"
      },
      "source": [
        "<a href=\"https://colab.research.google.com/github/Daniel010101010/DataMining/blob/main/PreproccesingDaniel.ipynb\" target=\"_parent\"><img src=\"https://colab.research.google.com/assets/colab-badge.svg\" alt=\"Open In Colab\"/></a>"
      ]
    },
    {
      "cell_type": "code",
      "execution_count": 37,
      "metadata": {
        "id": "M9cQVWcpI1Jc"
      },
      "outputs": [],
      "source": [
        "import numpy as np\n",
        "import matplotlib.pyplot as plt\n",
        "import pandas as pd"
      ]
    },
    {
      "cell_type": "code",
      "source": [
        "dataset = pd.read_csv('datasepatu.csv')\n",
        "x = dataset.iloc[:, :-1].values\n",
        "y = dataset.iloc[:, -1].values"
      ],
      "metadata": {
        "id": "5HjarseWPdc5"
      },
      "execution_count": 38,
      "outputs": []
    },
    {
      "cell_type": "code",
      "source": [
        "print(x)"
      ],
      "metadata": {
        "colab": {
          "base_uri": "https://localhost:8080/"
        },
        "id": "zDMPXCR2PjNo",
        "outputId": "a7cfdabc-f06f-4df9-9db1-308fd1d5be1c"
      },
      "execution_count": 39,
      "outputs": [
        {
          "output_type": "stream",
          "name": "stdout",
          "text": [
            "[['Air Jordan' 1000000 10.0]\n",
            " ['Nike' 800000 9.0]\n",
            " ['Airmax' 1500000 12.0]\n",
            " ['Ventella' 500000 nan]\n",
            " ['Eagle' 300000 8.0]\n",
            " ['Yeezy' 1800000 nan]\n",
            " ['Balenciaga' 2000000 8.0]\n",
            " ['Compass' 700000 7.0]\n",
            " ['Bata' 100000 7.0]\n",
            " ['Patrobas' 300000 8.0]]\n"
          ]
        }
      ]
    },
    {
      "cell_type": "code",
      "source": [
        "print(y)"
      ],
      "metadata": {
        "colab": {
          "base_uri": "https://localhost:8080/"
        },
        "id": "dul7dxwlPngA",
        "outputId": "a291ba8d-8d8d-4028-bd31-94ed4eadfd44"
      },
      "execution_count": 40,
      "outputs": [
        {
          "output_type": "stream",
          "name": "stdout",
          "text": [
            "['Yes' 'No' 'No' 'Yes' 'No' 'Yes' 'No' 'Yes' 'Yes' 'No']\n"
          ]
        }
      ]
    },
    {
      "cell_type": "code",
      "source": [
        "from sklearn.impute import SimpleImputer\n",
        "imputer = SimpleImputer(missing_values=np.nan, strategy='mean')\n",
        "imputer.fit(x[:, 1:3])\n",
        "x[:, 1:3] = imputer.transform(x[:, 1:3])"
      ],
      "metadata": {
        "id": "zoKGbE5DPrJ4"
      },
      "execution_count": 41,
      "outputs": []
    },
    {
      "cell_type": "code",
      "source": [
        "print(x)"
      ],
      "metadata": {
        "colab": {
          "base_uri": "https://localhost:8080/"
        },
        "id": "je4fdhAEPrP4",
        "outputId": "f91926e0-3e59-4954-f2a1-379cba15c5e7"
      },
      "execution_count": 42,
      "outputs": [
        {
          "output_type": "stream",
          "name": "stdout",
          "text": [
            "[['Air Jordan' 1000000.0 10.0]\n",
            " ['Nike' 800000.0 9.0]\n",
            " ['Airmax' 1500000.0 12.0]\n",
            " ['Ventella' 500000.0 8.625]\n",
            " ['Eagle' 300000.0 8.0]\n",
            " ['Yeezy' 1800000.0 8.625]\n",
            " ['Balenciaga' 2000000.0 8.0]\n",
            " ['Compass' 700000.0 7.0]\n",
            " ['Bata' 100000.0 7.0]\n",
            " ['Patrobas' 300000.0 8.0]]\n"
          ]
        }
      ]
    },
    {
      "cell_type": "code",
      "source": [
        "from sklearn.compose import ColumnTransformer\n",
        "from sklearn.preprocessing import OneHotEncoder\n",
        "ct = ColumnTransformer(transformers=[('encoder', OneHotEncoder(), [0])], remainder='passthrough')\n",
        "x = ct.fit_transform(x).toarray()"
      ],
      "metadata": {
        "id": "2B7zpPFmPrU3"
      },
      "execution_count": 43,
      "outputs": []
    },
    {
      "cell_type": "code",
      "source": [
        "print(x)"
      ],
      "metadata": {
        "colab": {
          "base_uri": "https://localhost:8080/"
        },
        "id": "gVow-exBPrZX",
        "outputId": "4fe06587-86b4-47bd-f6ca-f087f038df16"
      },
      "execution_count": 44,
      "outputs": [
        {
          "output_type": "stream",
          "name": "stdout",
          "text": [
            "[[1.000e+00 0.000e+00 0.000e+00 0.000e+00 0.000e+00 0.000e+00 0.000e+00\n",
            "  0.000e+00 0.000e+00 0.000e+00 1.000e+06 1.000e+01]\n",
            " [0.000e+00 0.000e+00 0.000e+00 0.000e+00 0.000e+00 0.000e+00 1.000e+00\n",
            "  0.000e+00 0.000e+00 0.000e+00 8.000e+05 9.000e+00]\n",
            " [0.000e+00 1.000e+00 0.000e+00 0.000e+00 0.000e+00 0.000e+00 0.000e+00\n",
            "  0.000e+00 0.000e+00 0.000e+00 1.500e+06 1.200e+01]\n",
            " [0.000e+00 0.000e+00 0.000e+00 0.000e+00 0.000e+00 0.000e+00 0.000e+00\n",
            "  0.000e+00 1.000e+00 0.000e+00 5.000e+05 8.625e+00]\n",
            " [0.000e+00 0.000e+00 0.000e+00 0.000e+00 0.000e+00 1.000e+00 0.000e+00\n",
            "  0.000e+00 0.000e+00 0.000e+00 3.000e+05 8.000e+00]\n",
            " [0.000e+00 0.000e+00 0.000e+00 0.000e+00 0.000e+00 0.000e+00 0.000e+00\n",
            "  0.000e+00 0.000e+00 1.000e+00 1.800e+06 8.625e+00]\n",
            " [0.000e+00 0.000e+00 1.000e+00 0.000e+00 0.000e+00 0.000e+00 0.000e+00\n",
            "  0.000e+00 0.000e+00 0.000e+00 2.000e+06 8.000e+00]\n",
            " [0.000e+00 0.000e+00 0.000e+00 0.000e+00 1.000e+00 0.000e+00 0.000e+00\n",
            "  0.000e+00 0.000e+00 0.000e+00 7.000e+05 7.000e+00]\n",
            " [0.000e+00 0.000e+00 0.000e+00 1.000e+00 0.000e+00 0.000e+00 0.000e+00\n",
            "  0.000e+00 0.000e+00 0.000e+00 1.000e+05 7.000e+00]\n",
            " [0.000e+00 0.000e+00 0.000e+00 0.000e+00 0.000e+00 0.000e+00 0.000e+00\n",
            "  1.000e+00 0.000e+00 0.000e+00 3.000e+05 8.000e+00]]\n"
          ]
        }
      ]
    },
    {
      "cell_type": "code",
      "source": [
        "from operator import le\n",
        "from sklearn.preprocessing import LabelEncoder\n",
        "le = LabelEncoder()\n",
        "y = le.fit_transform(y)"
      ],
      "metadata": {
        "id": "XsIY5EyHPreA"
      },
      "execution_count": 45,
      "outputs": []
    },
    {
      "cell_type": "code",
      "source": [
        "print(y)"
      ],
      "metadata": {
        "colab": {
          "base_uri": "https://localhost:8080/"
        },
        "id": "kuDM0ub6PriP",
        "outputId": "efd865df-7757-4299-db49-04830032d417"
      },
      "execution_count": 46,
      "outputs": [
        {
          "output_type": "stream",
          "name": "stdout",
          "text": [
            "[1 0 0 1 0 1 0 1 1 0]\n"
          ]
        }
      ]
    },
    {
      "cell_type": "code",
      "source": [
        "from sklearn.model_selection import train_test_split\n",
        "x_train, x_test, y_train, y_test, = train_test_split(x, y, test_size = 0.2, random_state = 1)"
      ],
      "metadata": {
        "id": "AlrQ8kB4Prmi"
      },
      "execution_count": 47,
      "outputs": []
    },
    {
      "cell_type": "code",
      "source": [
        "print(x_train)"
      ],
      "metadata": {
        "colab": {
          "base_uri": "https://localhost:8080/"
        },
        "id": "stFNNT9RPrrU",
        "outputId": "fe47da28-6465-4357-c1ca-bea114c162ae"
      },
      "execution_count": 48,
      "outputs": [
        {
          "output_type": "stream",
          "name": "stdout",
          "text": [
            "[[0.000e+00 0.000e+00 1.000e+00 0.000e+00 0.000e+00 0.000e+00 0.000e+00\n",
            "  0.000e+00 0.000e+00 0.000e+00 2.000e+06 8.000e+00]\n",
            " [0.000e+00 0.000e+00 0.000e+00 0.000e+00 0.000e+00 1.000e+00 0.000e+00\n",
            "  0.000e+00 0.000e+00 0.000e+00 3.000e+05 8.000e+00]\n",
            " [1.000e+00 0.000e+00 0.000e+00 0.000e+00 0.000e+00 0.000e+00 0.000e+00\n",
            "  0.000e+00 0.000e+00 0.000e+00 1.000e+06 1.000e+01]\n",
            " [0.000e+00 0.000e+00 0.000e+00 0.000e+00 0.000e+00 0.000e+00 0.000e+00\n",
            "  0.000e+00 1.000e+00 0.000e+00 5.000e+05 8.625e+00]\n",
            " [0.000e+00 0.000e+00 0.000e+00 0.000e+00 0.000e+00 0.000e+00 1.000e+00\n",
            "  0.000e+00 0.000e+00 0.000e+00 8.000e+05 9.000e+00]\n",
            " [0.000e+00 0.000e+00 0.000e+00 0.000e+00 1.000e+00 0.000e+00 0.000e+00\n",
            "  0.000e+00 0.000e+00 0.000e+00 7.000e+05 7.000e+00]\n",
            " [0.000e+00 0.000e+00 0.000e+00 1.000e+00 0.000e+00 0.000e+00 0.000e+00\n",
            "  0.000e+00 0.000e+00 0.000e+00 1.000e+05 7.000e+00]\n",
            " [0.000e+00 0.000e+00 0.000e+00 0.000e+00 0.000e+00 0.000e+00 0.000e+00\n",
            "  0.000e+00 0.000e+00 1.000e+00 1.800e+06 8.625e+00]]\n"
          ]
        }
      ]
    },
    {
      "cell_type": "code",
      "source": [
        "print(x_test)"
      ],
      "metadata": {
        "colab": {
          "base_uri": "https://localhost:8080/"
        },
        "id": "-j6tSrSYPrv8",
        "outputId": "34c89c91-90c1-4c2b-9bfc-8dd3fc90c4e7"
      },
      "execution_count": 49,
      "outputs": [
        {
          "output_type": "stream",
          "name": "stdout",
          "text": [
            "[[0.0e+00 1.0e+00 0.0e+00 0.0e+00 0.0e+00 0.0e+00 0.0e+00 0.0e+00 0.0e+00\n",
            "  0.0e+00 1.5e+06 1.2e+01]\n",
            " [0.0e+00 0.0e+00 0.0e+00 0.0e+00 0.0e+00 0.0e+00 0.0e+00 1.0e+00 0.0e+00\n",
            "  0.0e+00 3.0e+05 8.0e+00]]\n"
          ]
        }
      ]
    },
    {
      "cell_type": "code",
      "source": [
        "print(y_train)"
      ],
      "metadata": {
        "colab": {
          "base_uri": "https://localhost:8080/"
        },
        "id": "C5tInIdAPr0P",
        "outputId": "3943888a-4414-4c85-c266-aadef6f65f40"
      },
      "execution_count": 50,
      "outputs": [
        {
          "output_type": "stream",
          "name": "stdout",
          "text": [
            "[0 0 1 1 0 1 1 1]\n"
          ]
        }
      ]
    },
    {
      "cell_type": "code",
      "source": [
        "print(y_test)"
      ],
      "metadata": {
        "colab": {
          "base_uri": "https://localhost:8080/"
        },
        "id": "SF5I7bCuPr4r",
        "outputId": "4316ab5e-c6fc-4579-ba03-ab6409bc1dc4"
      },
      "execution_count": 51,
      "outputs": [
        {
          "output_type": "stream",
          "name": "stdout",
          "text": [
            "[0 0]\n"
          ]
        }
      ]
    },
    {
      "cell_type": "code",
      "source": [
        "from sklearn.preprocessing import StandardScaler\n",
        "sc = StandardScaler()\n",
        "x_train[:, 3:] = sc.fit_transform(x_train[:, 3:])\n",
        "x_test[:, 3:] = sc.transform(x_test[:, 3:])"
      ],
      "metadata": {
        "id": "crtb2RK6Pr9T"
      },
      "execution_count": 52,
      "outputs": []
    },
    {
      "cell_type": "code",
      "source": [
        "print(x_train)"
      ],
      "metadata": {
        "colab": {
          "base_uri": "https://localhost:8080/"
        },
        "id": "fwtXA_CpPsCT",
        "outputId": "29b1d54a-68f2-45cc-8900-ac7160396483"
      },
      "execution_count": 53,
      "outputs": [
        {
          "output_type": "stream",
          "name": "stdout",
          "text": [
            "[[ 0.          0.          1.         -0.37796447 -0.37796447 -0.37796447\n",
            "  -0.37796447  0.         -0.37796447 -0.37796447  1.72848324 -0.29753082]\n",
            " [ 0.          0.          0.         -0.37796447 -0.37796447  2.64575131\n",
            "  -0.37796447  0.         -0.37796447 -0.37796447 -0.94280904 -0.29753082]\n",
            " [ 1.          0.          0.         -0.37796447 -0.37796447 -0.37796447\n",
            "  -0.37796447  0.         -0.37796447 -0.37796447  0.15713484  1.81824391]\n",
            " [ 0.          0.          0.         -0.37796447 -0.37796447 -0.37796447\n",
            "  -0.37796447  0.          2.64575131 -0.37796447 -0.62853936  0.36364878]\n",
            " [ 0.          0.          0.         -0.37796447 -0.37796447 -0.37796447\n",
            "   2.64575131  0.         -0.37796447 -0.37796447 -0.15713484  0.76035655]\n",
            " [ 0.          0.          0.         -0.37796447  2.64575131 -0.37796447\n",
            "  -0.37796447  0.         -0.37796447 -0.37796447 -0.31426968 -1.35541819]\n",
            " [ 0.          0.          0.          2.64575131 -0.37796447 -0.37796447\n",
            "  -0.37796447  0.         -0.37796447 -0.37796447 -1.25707872 -1.35541819]\n",
            " [ 0.          0.          0.         -0.37796447 -0.37796447 -0.37796447\n",
            "  -0.37796447  0.         -0.37796447  2.64575131  1.41421356  0.36364878]]\n"
          ]
        }
      ]
    },
    {
      "cell_type": "code",
      "source": [
        "print(x_test)"
      ],
      "metadata": {
        "colab": {
          "base_uri": "https://localhost:8080/"
        },
        "id": "FXLhabBCPsGa",
        "outputId": "b6c5a410-c062-4195-faf7-fd0ac7906a33"
      },
      "execution_count": 54,
      "outputs": [
        {
          "output_type": "stream",
          "name": "stdout",
          "text": [
            "[[ 0.          1.          0.         -0.37796447 -0.37796447 -0.37796447\n",
            "  -0.37796447  0.         -0.37796447 -0.37796447  0.94280904  3.93401865]\n",
            " [ 0.          0.          0.         -0.37796447 -0.37796447 -0.37796447\n",
            "  -0.37796447  1.         -0.37796447 -0.37796447 -0.94280904 -0.29753082]]\n"
          ]
        }
      ]
    },
    {
      "cell_type": "markdown",
      "source": [
        "# New Section"
      ],
      "metadata": {
        "id": "CPx8PMrfI-H-"
      }
    }
  ]
}