{
  "nbformat": 4,
  "nbformat_minor": 0,
  "metadata": {
    "colab": {
      "name": "knn.ipynb",
      "provenance": [],
      "authorship_tag": "ABX9TyNA1mOFoVSBH3pG3WRl/u4h",
      "include_colab_link": true
    },
    "kernelspec": {
      "name": "python3",
      "display_name": "Python 3"
    },
    "language_info": {
      "name": "python"
    }
  },
  "cells": [
    {
      "cell_type": "markdown",
      "metadata": {
        "id": "view-in-github",
        "colab_type": "text"
      },
      "source": [
        "<a href=\"https://colab.research.google.com/github/Daniel010101010/DataMining/blob/main/knn.ipynb\" target=\"_parent\"><img src=\"https://colab.research.google.com/assets/colab-badge.svg\" alt=\"Open In Colab\"/></a>"
      ]
    },
    {
      "cell_type": "code",
      "execution_count": 1,
      "metadata": {
        "id": "s_SfWKparpYm"
      },
      "outputs": [],
      "source": [
        "import numpy as np\n",
        "import matplotlib.pyplot as plt\n",
        "import pandas as pd"
      ]
    },
    {
      "cell_type": "code",
      "source": [
        "dataset = pd.read_csv('datadm.csv')"
      ],
      "metadata": {
        "id": "wnc2oIwWsUde"
      },
      "execution_count": 2,
      "outputs": []
    },
    {
      "cell_type": "code",
      "source": [
        "dataset.head()"
      ],
      "metadata": {
        "colab": {
          "base_uri": "https://localhost:8080/",
          "height": 206
        },
        "id": "X30mAmuxsYPe",
        "outputId": "07d0b21d-2e72-4842-cf52-e0a12413a499"
      },
      "execution_count": 3,
      "outputs": [
        {
          "output_type": "execute_result",
          "data": {
            "text/plain": [
              "   Pregnancies  Glucose  BloodPressure  SkinThickness  Insulin   BMI  \\\n",
              "0            6      148             72             35        0  33.6   \n",
              "1            1       85             66             29        0  26.6   \n",
              "2            8      183             64              0        0  23.3   \n",
              "3            1       89             66             23       94  28.1   \n",
              "4            0      137             40             35      168  43.1   \n",
              "\n",
              "   DiabetesPedigreeFunction  Age  Outcome  \n",
              "0                     0.627   50        1  \n",
              "1                     0.351   31        0  \n",
              "2                     0.672   32        1  \n",
              "3                     0.167   21        0  \n",
              "4                     2.288   33        1  "
            ],
            "text/html": [
              "\n",
              "  <div id=\"df-c5b28b9c-8011-4c02-8de7-10cbbcb95ca5\">\n",
              "    <div class=\"colab-df-container\">\n",
              "      <div>\n",
              "<style scoped>\n",
              "    .dataframe tbody tr th:only-of-type {\n",
              "        vertical-align: middle;\n",
              "    }\n",
              "\n",
              "    .dataframe tbody tr th {\n",
              "        vertical-align: top;\n",
              "    }\n",
              "\n",
              "    .dataframe thead th {\n",
              "        text-align: right;\n",
              "    }\n",
              "</style>\n",
              "<table border=\"1\" class=\"dataframe\">\n",
              "  <thead>\n",
              "    <tr style=\"text-align: right;\">\n",
              "      <th></th>\n",
              "      <th>Pregnancies</th>\n",
              "      <th>Glucose</th>\n",
              "      <th>BloodPressure</th>\n",
              "      <th>SkinThickness</th>\n",
              "      <th>Insulin</th>\n",
              "      <th>BMI</th>\n",
              "      <th>DiabetesPedigreeFunction</th>\n",
              "      <th>Age</th>\n",
              "      <th>Outcome</th>\n",
              "    </tr>\n",
              "  </thead>\n",
              "  <tbody>\n",
              "    <tr>\n",
              "      <th>0</th>\n",
              "      <td>6</td>\n",
              "      <td>148</td>\n",
              "      <td>72</td>\n",
              "      <td>35</td>\n",
              "      <td>0</td>\n",
              "      <td>33.6</td>\n",
              "      <td>0.627</td>\n",
              "      <td>50</td>\n",
              "      <td>1</td>\n",
              "    </tr>\n",
              "    <tr>\n",
              "      <th>1</th>\n",
              "      <td>1</td>\n",
              "      <td>85</td>\n",
              "      <td>66</td>\n",
              "      <td>29</td>\n",
              "      <td>0</td>\n",
              "      <td>26.6</td>\n",
              "      <td>0.351</td>\n",
              "      <td>31</td>\n",
              "      <td>0</td>\n",
              "    </tr>\n",
              "    <tr>\n",
              "      <th>2</th>\n",
              "      <td>8</td>\n",
              "      <td>183</td>\n",
              "      <td>64</td>\n",
              "      <td>0</td>\n",
              "      <td>0</td>\n",
              "      <td>23.3</td>\n",
              "      <td>0.672</td>\n",
              "      <td>32</td>\n",
              "      <td>1</td>\n",
              "    </tr>\n",
              "    <tr>\n",
              "      <th>3</th>\n",
              "      <td>1</td>\n",
              "      <td>89</td>\n",
              "      <td>66</td>\n",
              "      <td>23</td>\n",
              "      <td>94</td>\n",
              "      <td>28.1</td>\n",
              "      <td>0.167</td>\n",
              "      <td>21</td>\n",
              "      <td>0</td>\n",
              "    </tr>\n",
              "    <tr>\n",
              "      <th>4</th>\n",
              "      <td>0</td>\n",
              "      <td>137</td>\n",
              "      <td>40</td>\n",
              "      <td>35</td>\n",
              "      <td>168</td>\n",
              "      <td>43.1</td>\n",
              "      <td>2.288</td>\n",
              "      <td>33</td>\n",
              "      <td>1</td>\n",
              "    </tr>\n",
              "  </tbody>\n",
              "</table>\n",
              "</div>\n",
              "      <button class=\"colab-df-convert\" onclick=\"convertToInteractive('df-c5b28b9c-8011-4c02-8de7-10cbbcb95ca5')\"\n",
              "              title=\"Convert this dataframe to an interactive table.\"\n",
              "              style=\"display:none;\">\n",
              "        \n",
              "  <svg xmlns=\"http://www.w3.org/2000/svg\" height=\"24px\"viewBox=\"0 0 24 24\"\n",
              "       width=\"24px\">\n",
              "    <path d=\"M0 0h24v24H0V0z\" fill=\"none\"/>\n",
              "    <path d=\"M18.56 5.44l.94 2.06.94-2.06 2.06-.94-2.06-.94-.94-2.06-.94 2.06-2.06.94zm-11 1L8.5 8.5l.94-2.06 2.06-.94-2.06-.94L8.5 2.5l-.94 2.06-2.06.94zm10 10l.94 2.06.94-2.06 2.06-.94-2.06-.94-.94-2.06-.94 2.06-2.06.94z\"/><path d=\"M17.41 7.96l-1.37-1.37c-.4-.4-.92-.59-1.43-.59-.52 0-1.04.2-1.43.59L10.3 9.45l-7.72 7.72c-.78.78-.78 2.05 0 2.83L4 21.41c.39.39.9.59 1.41.59.51 0 1.02-.2 1.41-.59l7.78-7.78 2.81-2.81c.8-.78.8-2.07 0-2.86zM5.41 20L4 18.59l7.72-7.72 1.47 1.35L5.41 20z\"/>\n",
              "  </svg>\n",
              "      </button>\n",
              "      \n",
              "  <style>\n",
              "    .colab-df-container {\n",
              "      display:flex;\n",
              "      flex-wrap:wrap;\n",
              "      gap: 12px;\n",
              "    }\n",
              "\n",
              "    .colab-df-convert {\n",
              "      background-color: #E8F0FE;\n",
              "      border: none;\n",
              "      border-radius: 50%;\n",
              "      cursor: pointer;\n",
              "      display: none;\n",
              "      fill: #1967D2;\n",
              "      height: 32px;\n",
              "      padding: 0 0 0 0;\n",
              "      width: 32px;\n",
              "    }\n",
              "\n",
              "    .colab-df-convert:hover {\n",
              "      background-color: #E2EBFA;\n",
              "      box-shadow: 0px 1px 2px rgba(60, 64, 67, 0.3), 0px 1px 3px 1px rgba(60, 64, 67, 0.15);\n",
              "      fill: #174EA6;\n",
              "    }\n",
              "\n",
              "    [theme=dark] .colab-df-convert {\n",
              "      background-color: #3B4455;\n",
              "      fill: #D2E3FC;\n",
              "    }\n",
              "\n",
              "    [theme=dark] .colab-df-convert:hover {\n",
              "      background-color: #434B5C;\n",
              "      box-shadow: 0px 1px 3px 1px rgba(0, 0, 0, 0.15);\n",
              "      filter: drop-shadow(0px 1px 2px rgba(0, 0, 0, 0.3));\n",
              "      fill: #FFFFFF;\n",
              "    }\n",
              "  </style>\n",
              "\n",
              "      <script>\n",
              "        const buttonEl =\n",
              "          document.querySelector('#df-c5b28b9c-8011-4c02-8de7-10cbbcb95ca5 button.colab-df-convert');\n",
              "        buttonEl.style.display =\n",
              "          google.colab.kernel.accessAllowed ? 'block' : 'none';\n",
              "\n",
              "        async function convertToInteractive(key) {\n",
              "          const element = document.querySelector('#df-c5b28b9c-8011-4c02-8de7-10cbbcb95ca5');\n",
              "          const dataTable =\n",
              "            await google.colab.kernel.invokeFunction('convertToInteractive',\n",
              "                                                     [key], {});\n",
              "          if (!dataTable) return;\n",
              "\n",
              "          const docLinkHtml = 'Like what you see? Visit the ' +\n",
              "            '<a target=\"_blank\" href=https://colab.research.google.com/notebooks/data_table.ipynb>data table notebook</a>'\n",
              "            + ' to learn more about interactive tables.';\n",
              "          element.innerHTML = '';\n",
              "          dataTable['output_type'] = 'display_data';\n",
              "          await google.colab.output.renderOutput(dataTable, element);\n",
              "          const docLink = document.createElement('div');\n",
              "          docLink.innerHTML = docLinkHtml;\n",
              "          element.appendChild(docLink);\n",
              "        }\n",
              "      </script>\n",
              "    </div>\n",
              "  </div>\n",
              "  "
            ]
          },
          "metadata": {},
          "execution_count": 3
        }
      ]
    },
    {
      "cell_type": "code",
      "source": [
        "x = dataset.iloc[:, [2,3]].values\n",
        "y = dataset.iloc[:, -1].values"
      ],
      "metadata": {
        "id": "6V5ijW1BsZnO"
      },
      "execution_count": 4,
      "outputs": []
    },
    {
      "cell_type": "code",
      "source": [
        "print(x)"
      ],
      "metadata": {
        "colab": {
          "base_uri": "https://localhost:8080/"
        },
        "id": "iqFTB3DAsbn3",
        "outputId": "217a3f57-17e3-424c-844a-5c12428f2b50"
      },
      "execution_count": 5,
      "outputs": [
        {
          "output_type": "stream",
          "name": "stdout",
          "text": [
            "[[72 35]\n",
            " [66 29]\n",
            " [64  0]\n",
            " ...\n",
            " [72 23]\n",
            " [60  0]\n",
            " [70 31]]\n"
          ]
        }
      ]
    },
    {
      "cell_type": "code",
      "source": [
        "print(y)"
      ],
      "metadata": {
        "colab": {
          "base_uri": "https://localhost:8080/"
        },
        "id": "tKXhcz9JscLW",
        "outputId": "ab87fd71-6e87-43da-b618-cdc8c8545b66"
      },
      "execution_count": 6,
      "outputs": [
        {
          "output_type": "stream",
          "name": "stdout",
          "text": [
            "[1 0 1 0 1 0 1 0 1 1 0 1 0 1 1 1 1 1 0 1 0 0 1 1 1 1 1 0 0 0 0 1 0 0 0 0 0\n",
            " 1 1 1 0 0 0 1 0 1 0 0 1 0 0 0 0 1 0 0 1 0 0 0 0 1 0 0 1 0 1 0 0 0 1 0 1 0\n",
            " 0 0 0 0 1 0 0 0 0 0 1 0 0 0 1 0 0 0 0 1 0 0 0 0 0 1 1 0 0 0 0 0 0 0 0 1 1\n",
            " 1 0 0 1 1 1 0 0 0 1 0 0 0 1 1 0 0 1 1 1 1 1 0 0 0 0 0 0 0 0 0 0 1 0 0 0 0\n",
            " 0 0 0 0 1 0 1 1 0 0 0 1 0 0 0 0 1 1 0 0 0 0 1 1 0 0 0 1 0 1 0 1 0 0 0 0 0\n",
            " 1 1 1 1 1 0 0 1 1 0 1 0 1 1 1 0 0 0 0 0 0 1 1 0 1 0 0 0 1 1 1 1 0 1 1 1 1\n",
            " 0 0 0 0 0 1 0 0 1 1 0 0 0 1 1 1 1 0 0 0 1 1 0 1 0 0 0 0 0 0 0 0 1 1 0 0 0\n",
            " 1 0 1 0 0 1 0 1 0 0 1 1 0 0 0 0 0 1 0 0 0 1 0 0 1 1 0 0 1 0 0 0 1 1 1 0 0\n",
            " 1 0 1 0 1 1 0 1 0 0 1 0 1 1 0 0 1 0 1 0 0 1 0 1 0 1 1 1 0 0 1 0 1 0 0 0 1\n",
            " 0 0 0 0 1 1 1 0 0 0 0 0 0 0 0 0 1 0 0 0 0 0 1 1 1 0 1 1 0 0 1 0 0 1 0 0 1\n",
            " 1 0 0 0 0 1 0 0 1 0 0 0 0 0 0 0 1 1 1 0 0 1 0 0 1 0 0 1 0 1 1 0 1 0 1 0 1\n",
            " 0 1 1 0 0 0 0 1 1 0 1 0 1 0 0 0 0 1 1 0 1 0 1 0 0 0 0 0 1 0 0 0 0 1 0 0 1\n",
            " 1 1 0 0 1 0 0 1 0 0 0 1 0 0 1 0 0 0 0 0 0 0 0 0 1 0 0 0 0 0 0 0 1 0 0 0 1\n",
            " 0 0 0 1 1 0 0 0 0 0 0 0 1 0 0 0 0 1 0 0 0 1 0 0 0 1 0 0 0 1 0 0 0 0 1 1 0\n",
            " 0 0 0 0 0 1 0 0 0 0 0 0 0 0 0 0 0 1 0 0 0 1 1 1 1 0 0 1 1 0 0 0 0 0 0 0 0\n",
            " 0 0 0 0 0 1 1 0 0 0 0 0 0 0 1 0 0 0 0 0 0 0 1 0 1 1 0 0 0 1 0 1 0 1 0 1 0\n",
            " 1 0 0 1 0 0 1 0 0 0 0 1 1 0 1 0 0 0 0 1 1 0 1 0 0 0 1 1 0 0 0 0 0 0 0 0 0\n",
            " 0 1 0 0 0 0 1 0 0 1 0 0 0 1 0 0 0 1 1 1 0 0 0 0 0 0 1 0 0 0 1 0 1 1 1 1 0\n",
            " 1 1 0 0 0 0 0 0 0 1 1 0 1 0 0 1 0 1 0 0 0 0 0 1 0 1 0 1 0 1 1 0 0 0 0 1 1\n",
            " 0 0 0 1 0 1 1 0 0 1 0 0 1 1 0 0 1 0 0 1 0 0 0 0 0 0 0 1 1 1 0 0 0 0 0 0 1\n",
            " 1 0 0 1 0 0 1 0 1 1 1 0 0 1 1 1 0 1 0 1 0 1 0 0 0 0 1 0]\n"
          ]
        }
      ]
    },
    {
      "cell_type": "code",
      "source": [
        "from sklearn.model_selection import train_test_split \n",
        "x_train, x_test, y_train, y_test = train_test_split(x, y, test_size = 0.25, random_state = 0)"
      ],
      "metadata": {
        "id": "W9ZnLOAPshc-"
      },
      "execution_count": 7,
      "outputs": []
    },
    {
      "cell_type": "code",
      "source": [
        "print(x_train)"
      ],
      "metadata": {
        "colab": {
          "base_uri": "https://localhost:8080/"
        },
        "id": "IHeP6oShshkN",
        "outputId": "f9202ead-0555-4558-ada4-774a94f7d89b"
      },
      "execution_count": 8,
      "outputs": [
        {
          "output_type": "stream",
          "name": "stdout",
          "text": [
            "[[62  0]\n",
            " [58 36]\n",
            " [80  0]\n",
            " ...\n",
            " [65 22]\n",
            " [74  0]\n",
            " [82  0]]\n"
          ]
        }
      ]
    },
    {
      "cell_type": "code",
      "source": [
        "len(x_train)"
      ],
      "metadata": {
        "colab": {
          "base_uri": "https://localhost:8080/"
        },
        "id": "5WkVJw22shq2",
        "outputId": "8b2dc361-3632-4324-d554-f4ee8a288f85"
      },
      "execution_count": 9,
      "outputs": [
        {
          "output_type": "execute_result",
          "data": {
            "text/plain": [
              "576"
            ]
          },
          "metadata": {},
          "execution_count": 9
        }
      ]
    },
    {
      "cell_type": "code",
      "source": [
        "len(x)"
      ],
      "metadata": {
        "colab": {
          "base_uri": "https://localhost:8080/"
        },
        "id": "ZmPW6l_ishwf",
        "outputId": "cd77d9c6-96a9-452d-e433-1edc48501b67"
      },
      "execution_count": 10,
      "outputs": [
        {
          "output_type": "execute_result",
          "data": {
            "text/plain": [
              "768"
            ]
          },
          "metadata": {},
          "execution_count": 10
        }
      ]
    },
    {
      "cell_type": "code",
      "source": [
        "len(x_test)"
      ],
      "metadata": {
        "colab": {
          "base_uri": "https://localhost:8080/"
        },
        "id": "iulo13Oush2G",
        "outputId": "3f069c93-94ee-4a41-d4cf-6e662ce942d4"
      },
      "execution_count": 11,
      "outputs": [
        {
          "output_type": "execute_result",
          "data": {
            "text/plain": [
              "192"
            ]
          },
          "metadata": {},
          "execution_count": 11
        }
      ]
    },
    {
      "cell_type": "code",
      "source": [
        "len(y)"
      ],
      "metadata": {
        "colab": {
          "base_uri": "https://localhost:8080/"
        },
        "id": "R3BXCAr5sh7d",
        "outputId": "42ae0404-296e-4cef-e874-3ace4536d5b1"
      },
      "execution_count": 12,
      "outputs": [
        {
          "output_type": "execute_result",
          "data": {
            "text/plain": [
              "768"
            ]
          },
          "metadata": {},
          "execution_count": 12
        }
      ]
    },
    {
      "cell_type": "code",
      "source": [
        "len(y_test)"
      ],
      "metadata": {
        "colab": {
          "base_uri": "https://localhost:8080/"
        },
        "id": "Ag_Iun9esiA-",
        "outputId": "989ab2de-5e99-4485-be6d-5117fe3a29a2"
      },
      "execution_count": 13,
      "outputs": [
        {
          "output_type": "execute_result",
          "data": {
            "text/plain": [
              "192"
            ]
          },
          "metadata": {},
          "execution_count": 13
        }
      ]
    },
    {
      "cell_type": "code",
      "source": [
        "len(y_train)"
      ],
      "metadata": {
        "colab": {
          "base_uri": "https://localhost:8080/"
        },
        "id": "z_wKP5CmsiGW",
        "outputId": "3bbae99b-796c-4fbd-cdfa-177d82033331"
      },
      "execution_count": 14,
      "outputs": [
        {
          "output_type": "execute_result",
          "data": {
            "text/plain": [
              "576"
            ]
          },
          "metadata": {},
          "execution_count": 14
        }
      ]
    },
    {
      "cell_type": "code",
      "source": [
        "from sklearn.preprocessing import StandardScaler \n",
        "sc = StandardScaler() \n",
        "x_train = sc.fit_transform(x_train) \n",
        "x_test = sc.transform(x_test)"
      ],
      "metadata": {
        "id": "IErlxzZSsiLl"
      },
      "execution_count": 15,
      "outputs": []
    },
    {
      "cell_type": "code",
      "source": [
        "print(x_train)"
      ],
      "metadata": {
        "colab": {
          "base_uri": "https://localhost:8080/"
        },
        "id": "sCNB_MdVsiRF",
        "outputId": "10e69296-c476-4088-ae70-4902bf3a5eb3"
      },
      "execution_count": 16,
      "outputs": [
        {
          "output_type": "stream",
          "name": "stdout",
          "text": [
            "[[-0.40451932 -1.31921491]\n",
            " [-0.61509602  0.9287299 ]\n",
            " [ 0.54307587 -1.31921491]\n",
            " ...\n",
            " [-0.24658679  0.05452914]\n",
            " [ 0.2272108  -1.31921491]\n",
            " [ 0.64836422 -1.31921491]]\n"
          ]
        }
      ]
    },
    {
      "cell_type": "code",
      "source": [
        "print(x_test)"
      ],
      "metadata": {
        "colab": {
          "base_uri": "https://localhost:8080/"
        },
        "id": "x58BwcLcsiWS",
        "outputId": "13da1acf-cccd-4711-f9b5-03fa2e131b13"
      },
      "execution_count": 17,
      "outputs": [
        {
          "output_type": "stream",
          "name": "stdout",
          "text": [
            "[[ 0.33249916  1.36583027]\n",
            " [ 0.2272108   0.55407243]\n",
            " [-0.40451932 -1.31921491]\n",
            " [ 0.12192245 -0.13279959]\n",
            " [-0.24658679 -1.31921491]\n",
            " [ 0.12192245 -0.19524251]\n",
            " [ 0.43778751  0.80384407]\n",
            " [ 0.85894093  0.3667437 ]\n",
            " [-0.61509602  0.17941496]\n",
            " [ 0.12192245  0.67895825]\n",
            " [ 0.33249916  0.9287299 ]\n",
            " [ 0.33249916  0.3667437 ]\n",
            " [ 0.2272108  -1.31921491]\n",
            " [-0.93096108  0.05452914]\n",
            " [ 0.12192245  0.11697205]\n",
            " [-0.08865426 -0.07035668]\n",
            " [ 0.12192245  1.30338736]\n",
            " [-1.03624944 -0.69478579]\n",
            " [ 0.85894093  0.61651534]\n",
            " [-0.82567273  0.42918661]\n",
            " [ 0.64836422  0.67895825]\n",
            " [ 0.54307587 -1.31921491]\n",
            " [-3.66845828  0.11697205]\n",
            " [ 0.64836422  0.42918661]\n",
            " [-0.19394261 -0.38257124]\n",
            " [-0.50980767  0.67895825]\n",
            " [ 0.33249916 -1.31921491]\n",
            " [ 0.96422928  0.99117281]\n",
            " [-0.19394261  0.05452914]\n",
            " [-0.08865426 -1.31921491]\n",
            " [ 0.2272108   0.30430078]\n",
            " [-0.29923096  1.55315901]\n",
            " [ 0.85894093 -0.25768542]\n",
            " [-0.93096108  1.36583027]\n",
            " [-0.82567273 -0.50745706]\n",
            " [-0.29923096 -1.31921491]\n",
            " [ 0.75365257  0.86628699]\n",
            " [ 1.06951763 -0.13279959]\n",
            " [-1.3521145   1.61560192]\n",
            " [-0.29923096  0.24185787]\n",
            " [-0.29923096 -0.19524251]\n",
            " [ 0.43778751 -1.31921491]\n",
            " [-0.50980767 -0.13279959]\n",
            " [ 0.0166341   0.61651534]\n",
            " [ 0.0166341   1.4907161 ]\n",
            " [ 0.27985498  0.11697205]\n",
            " [-0.40451932  0.67895825]\n",
            " [-0.29923096  0.49162952]\n",
            " [-0.29923096  1.42827319]\n",
            " [ 0.54307587 -1.31921491]\n",
            " [-0.08865426 -1.31921491]\n",
            " [-0.93096108  0.30430078]\n",
            " [ 0.0166341   1.17850154]\n",
            " [ 1.06951763  1.24094445]\n",
            " [-0.08865426  0.67895825]\n",
            " [-1.14153779 -0.07035668]\n",
            " [-0.19394261  0.49162952]\n",
            " [ 1.49067105 -1.31921491]\n",
            " [ 0.0166341  -1.31921491]\n",
            " [-3.66845828 -1.31921491]\n",
            " [ 1.91182446  1.55315901]\n",
            " [ 0.2272108   0.24185787]\n",
            " [-0.08865426 -1.31921491]\n",
            " [-3.66845828 -1.31921491]\n",
            " [ 0.2272108  -1.31921491]\n",
            " [ 0.2272108  -1.31921491]\n",
            " [ 0.96422928 -1.31921491]\n",
            " [ 0.43778751 -1.31921491]\n",
            " [-0.93096108 -1.31921491]\n",
            " [ 0.43778751  0.24185787]\n",
            " [-0.29923096 -1.31921491]\n",
            " [-3.66845828 -1.31921491]\n",
            " [-0.08865426  0.67895825]\n",
            " [ 1.28009434 -1.31921491]\n",
            " [ 0.12192245 -1.31921491]\n",
            " [ 0.75365257 -1.31921491]\n",
            " [ 1.91182446  0.11697205]\n",
            " [ 0.2272108   0.67895825]\n",
            " [ 0.85894093 -0.13279959]\n",
            " [ 0.0166341   1.17850154]\n",
            " [ 0.33249916 -1.31921491]\n",
            " [ 0.2272108   1.80293065]\n",
            " [ 0.2272108   0.49162952]\n",
            " [-0.29923096 -0.13279959]\n",
            " [-0.50980767  0.67895825]\n",
            " [ 0.54307587 -1.31921491]\n",
            " [-0.82567273 -1.31921491]\n",
            " [-2.08913297  1.05361572]\n",
            " [ 0.75365257 -0.00791377]\n",
            " [ 0.0166341   0.3667437 ]\n",
            " [ 0.2272108   0.9287299 ]\n",
            " [ 0.75365257 -1.31921491]\n",
            " [-1.03624944 -0.69478579]\n",
            " [ 0.54307587 -0.63234288]\n",
            " [ 0.64836422  1.36583027]\n",
            " [-0.61509602  0.61651534]\n",
            " [ 0.33249916  0.67895825]\n",
            " [ 0.64836422  1.11605863]\n",
            " [ 0.12192245  1.61560192]\n",
            " [ 0.12192245 -1.31921491]\n",
            " [ 0.54307587  0.80384407]\n",
            " [-0.93096108 -0.38257124]\n",
            " [ 1.17480599 -1.31921491]\n",
            " [-0.19394261 -0.50745706]\n",
            " [-0.29923096  1.30338736]\n",
            " [ 0.0166341  -1.31921491]\n",
            " [ 0.85894093  0.3667437 ]\n",
            " [ 0.0166341   1.05361572]\n",
            " [ 0.54307587 -0.63234288]\n",
            " [-0.29923096 -1.31921491]\n",
            " [-0.61509602  0.30430078]\n",
            " [ 0.64836422  0.67895825]\n",
            " [-0.19394261 -1.31921491]\n",
            " [ 1.49067105  1.24094445]\n",
            " [ 0.75365257  0.74140116]\n",
            " [ 0.85894093 -1.31921491]\n",
            " [-0.40451932 -0.69478579]\n",
            " [-1.03624944 -0.32012833]\n",
            " [ 0.85894093 -0.13279959]\n",
            " [ 0.54307587  0.99117281]\n",
            " [ 0.43778751  1.17850154]\n",
            " [ 2.01711282  0.99117281]\n",
            " [-0.19394261  1.11605863]\n",
            " [ 0.43778751 -0.25768542]\n",
            " [ 0.2272108   0.05452914]\n",
            " [-0.50980767 -1.31921491]\n",
            " [ 0.96422928 -0.63234288]\n",
            " [ 0.2272108   0.49162952]\n",
            " [-0.82567273 -1.31921491]\n",
            " [ 0.96422928 -1.31921491]\n",
            " [-0.29923096  0.86628699]\n",
            " [-3.66845828 -1.31921491]\n",
            " [-0.50980767  0.05452914]\n",
            " [-0.08865426  1.74048774]\n",
            " [-0.29923096  0.24185787]\n",
            " [ 0.33249916  0.99117281]\n",
            " [-1.03624944 -0.13279959]\n",
            " [-0.19394261  0.67895825]\n",
            " [-3.66845828 -1.31921491]\n",
            " [-0.82567273 -1.31921491]\n",
            " [-0.61509602 -0.32012833]\n",
            " [ 0.12192245  0.49162952]\n",
            " [-0.61509602 -1.31921491]\n",
            " [ 0.43778751 -1.31921491]\n",
            " [-0.19394261 -1.31921491]\n",
            " [-0.61509602 -0.69478579]\n",
            " [-0.19394261 -0.00791377]\n",
            " [-0.19394261  0.55407243]\n",
            " [-0.08865426 -0.00791377]\n",
            " [ 0.54307587  1.4907161 ]\n",
            " [-0.61509602  0.05452914]\n",
            " [ 0.85894093 -1.31921491]\n",
            " [ 0.2272108  -0.38257124]\n",
            " [ 0.12192245  0.55407243]\n",
            " [ 0.43778751  0.49162952]\n",
            " [-0.50980767  0.11697205]\n",
            " [ 1.06951763  0.74140116]\n",
            " [-0.72038438 -0.00791377]\n",
            " [-3.66845828 -1.31921491]\n",
            " [-3.66845828 -1.31921491]\n",
            " [-0.08865426  0.11697205]\n",
            " [ 0.43778751 -1.31921491]\n",
            " [-1.14153779 -0.19524251]\n",
            " [-0.50980767 -0.19524251]\n",
            " [ 0.0166341  -1.31921491]\n",
            " [-3.66845828 -1.31921491]\n",
            " [-0.50980767 -1.31921491]\n",
            " [-0.50980767 -1.31921491]\n",
            " [-0.61509602 -1.31921491]\n",
            " [ 1.06951763 -1.31921491]\n",
            " [-2.40499803 -0.13279959]\n",
            " [ 0.0166341   1.17850154]\n",
            " [ 0.2272108  -1.31921491]\n",
            " [ 0.2272108  -1.31921491]\n",
            " [ 0.54307587 -0.38257124]\n",
            " [ 0.0166341   0.67895825]\n",
            " [ 0.12192245 -1.31921491]\n",
            " [ 0.64836422  1.24094445]\n",
            " [ 0.33249916 -0.07035668]\n",
            " [-0.29923096  0.17941496]\n",
            " [ 0.64836422 -1.31921491]\n",
            " [ 2.33297788 -1.31921491]\n",
            " [-0.24658679  0.42918661]\n",
            " [-0.19394261  1.11605863]\n",
            " [ 0.0166341  -1.31921491]\n",
            " [-0.40451932 -1.31921491]\n",
            " [-3.66845828 -1.31921491]\n",
            " [ 0.12192245 -1.31921491]\n",
            " [-0.61509602  0.74140116]\n",
            " [-0.50980767 -0.81967162]\n",
            " [ 0.43778751 -1.31921491]\n",
            " [ 0.43778751  0.55407243]]\n"
          ]
        }
      ]
    },
    {
      "cell_type": "code",
      "source": [
        "from sklearn.neighbors import KNeighborsClassifier\n",
        "classifier = KNeighborsClassifier(n_neighbors= 5 , metric = 'minkowski', p = 2)\n",
        "classifier.fit(x_train, y_train)"
      ],
      "metadata": {
        "colab": {
          "base_uri": "https://localhost:8080/"
        },
        "id": "2nrVIgqksicO",
        "outputId": "b2a69ca1-a3a8-43a2-eb56-33031652921a"
      },
      "execution_count": 18,
      "outputs": [
        {
          "output_type": "execute_result",
          "data": {
            "text/plain": [
              "KNeighborsClassifier()"
            ]
          },
          "metadata": {},
          "execution_count": 18
        }
      ]
    },
    {
      "cell_type": "code",
      "source": [
        "y_pred = classifier.predict(x_test)"
      ],
      "metadata": {
        "id": "JtyIdA6ssihN"
      },
      "execution_count": 19,
      "outputs": []
    },
    {
      "cell_type": "code",
      "source": [
        "from sklearn.metrics import confusion_matrix\n",
        "cm = confusion_matrix(y_test, y_pred)\n",
        "print(cm)"
      ],
      "metadata": {
        "colab": {
          "base_uri": "https://localhost:8080/"
        },
        "id": "hT_iOqDjsinJ",
        "outputId": "39a7a391-c594-421e-a8e8-7979495ee4ef"
      },
      "execution_count": 20,
      "outputs": [
        {
          "output_type": "stream",
          "name": "stdout",
          "text": [
            "[[108  22]\n",
            " [ 45  17]]\n"
          ]
        }
      ]
    },
    {
      "cell_type": "code",
      "source": [
        "from matplotlib.colors import ListedColormap \n",
        "x_set, y_set = x_train, y_train \n",
        "x1, x2 = np.meshgrid(np.arange(start = x_set[:, 0].min()-1, stop = x_set[:, 0].max() + 1, step=0.01),\n",
        "                     np.arange(start = x_set[:, 1].min()-1, stop = x_set[:, 1].max() + 1, step=0.01)) \n",
        "plt.contourf(x1, x2, classifier.predict(np.array([x1.ravel(), x2.ravel()]).T).reshape(x1.shape), \n",
        "             alpha = 0.75, cmap = ListedColormap(  ('red', 'green'))) \n",
        "plt.xlim(x1.min(), x1.max()) \n",
        "plt.ylim(x2.min(), x2.max()) \n",
        "for i, j in enumerate(np.unique(y_set)): \n",
        "    plt.scatter(x_set[y_set == j, 0], x_set[y_set==j, 1],\n",
        "                c = ListedColormap(('red', 'green'))(i), label = j)\n",
        "plt.title('Klasifikasi Data dengan K-NN (Data Training)') \n",
        "plt.xlabel('BMI') \n",
        "plt.ylabel('Age') \n",
        "plt.show() "
      ],
      "metadata": {
        "colab": {
          "base_uri": "https://localhost:8080/",
          "height": 350
        },
        "id": "Lux5Fbv3sisu",
        "outputId": "51e91dd2-10ee-45ca-8f57-34e968610804"
      },
      "execution_count": 21,
      "outputs": [
        {
          "output_type": "stream",
          "name": "stderr",
          "text": [
            "*c* argument looks like a single numeric RGB or RGBA sequence, which should be avoided as value-mapping will have precedence in case its length matches with *x* & *y*.  Please use the *color* keyword-argument or provide a 2-D array with a single row if you intend to specify the same RGB or RGBA value for all points.\n",
            "*c* argument looks like a single numeric RGB or RGBA sequence, which should be avoided as value-mapping will have precedence in case its length matches with *x* & *y*.  Please use the *color* keyword-argument or provide a 2-D array with a single row if you intend to specify the same RGB or RGBA value for all points.\n"
          ]
        },
        {
          "output_type": "display_data",
          "data": {
            "text/plain": [
              "<Figure size 432x288 with 1 Axes>"
            ],
            "image/png": "[encoded data removed]"
          },
          "metadata": {
            "needs_background": "light"
          }
        }
      ]
    },
    {
      "cell_type": "code",
      "source": [
        "from matplotlib.colors import ListedColormap \n",
        "x_set, y_set = x_test, y_test\n",
        "x1, x2 = np.meshgrid(np.arange(start = x_set[:, 0].min()-1, stop = x_set[:, 0].max() + 1, step=0.01),\n",
        "                     np.arange(start = x_set[:, 1].min()-1, stop = x_set[:, 1].max() + 1, step=0.01)) \n",
        "plt.contourf(x1, x2, classifier.predict(np.array([x1.ravel(), x2.ravel()]).T).reshape(x1.shape), \n",
        "             alpha = 0.75, cmap = ListedColormap(  ('red', 'green'))) \n",
        "plt.xlim(x1.min(), x1.max()) \n",
        "plt.ylim(x2.min(), x2.max()) \n",
        "for i, j in enumerate(np.unique(y_set)): \n",
        "    plt.scatter(x_set[y_set == j, 0], x_set[y_set==j, 1],\n",
        "                c = ListedColormap(('red', 'green'))(i), label = j)\n",
        "plt.title('Klasifikasi Data dengan K-NN (Data Testing)') \n",
        "plt.xlabel('BMI') \n",
        "plt.ylabel('Age') \n",
        "plt.show() "
      ],
      "metadata": {
        "colab": {
          "base_uri": "https://localhost:8080/",
          "height": 350
        },
        "id": "RNqma7jysixl",
        "outputId": "e584fe5f-985f-4f25-a04d-320b21ee69ec"
      },
      "execution_count": 22,
      "outputs": [
        {
          "output_type": "stream",
          "name": "stderr",
          "text": [
            "*c* argument looks like a single numeric RGB or RGBA sequence, which should be avoided as value-mapping will have precedence in case its length matches with *x* & *y*.  Please use the *color* keyword-argument or provide a 2-D array with a single row if you intend to specify the same RGB or RGBA value for all points.\n",
            "*c* argument looks like a single numeric RGB or RGBA sequence, which should be avoided as value-mapping will have precedence in case its length matches with *x* & *y*.  Please use the *color* keyword-argument or provide a 2-D array with a single row if you intend to specify the same RGB or RGBA value for all points.\n"
          ]
        },
        {
          "output_type": "display_data",
          "data": {
            "text/plain": [
              "<Figure size 432x288 with 1 Axes>"
            ],
            "image/png": "[encoded data removed]"
          },
          "metadata": {
            "needs_background": "light"
          }
        }
      ]
    }
  ]
}